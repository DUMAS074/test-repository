{
  "nbformat": 4,
  "nbformat_minor": 0,
  "metadata": {
    "accelerator": "GPU",
    "colab": {
      "name": "CNN test.ipynb",
      "provenance": [],
      "collapsed_sections": [],
      "authorship_tag": "ABX9TyOn62HKkj5st4OfBZ1dSwA5",
      "include_colab_link": true
    },
    "kernelspec": {
      "display_name": "Python 3",
      "name": "python3"
    }
  },
  "cells": [
    {
      "cell_type": "markdown",
      "metadata": {
        "id": "view-in-github",
        "colab_type": "text"
      },
      "source": [
        "<a href=\"https://colab.research.google.com/github/DUMAS074/test-repository/blob/main/CNN_test.ipynb\" target=\"_parent\"><img src=\"https://colab.research.google.com/assets/colab-badge.svg\" alt=\"Open In Colab\"/></a>"
      ]
    },
    {
      "cell_type": "code",
      "metadata": {
        "colab": {
          "base_uri": "https://localhost:8080/"
        },
        "id": "kB4uSi2wRrYy",
        "outputId": "6780b9f5-f61b-49e9-afdf-3a00788a86d1"
      },
      "source": [
        "import numpy as np\n",
        "import matplotlib.pyplot as plt\n",
        "from tensorflow import keras\n",
        "from tensorflow.keras.layers import Conv2D, MaxPooling2D, Dropout, Dense, Flatten\n",
        "from keras.datasets import mnist\n",
        "%matplotlib inline\n",
        " \n",
        " \n",
        "(x_train, y_train), (x_test, y_test) = mnist.load_data()\n",
        " \n",
        "x_train = x_train/255\n",
        "x_test = x_test/255\n",
        " \n",
        "y_train_c=keras.utils.to_categorical(y_train,10)\n",
        "y_test_c=keras.utils.to_categorical(y_test,10)\n",
        " \n",
        "x_train= np.expand_dims(x_train, axis=3)\n",
        "x_test= np.expand_dims(x_test, axis=3)"
      ],
      "execution_count": null,
      "outputs": [
        {
          "output_type": "stream",
          "text": [
            "Downloading data from https://storage.googleapis.com/tensorflow/tf-keras-datasets/mnist.npz\n",
            "11493376/11490434 [==============================] - 0s 0us/step\n"
          ],
          "name": "stdout"
        }
      ]
    },
    {
      "cell_type": "code",
      "metadata": {
        "colab": {
          "base_uri": "https://localhost:8080/"
        },
        "id": "AmeSPnk1SGaI",
        "outputId": "e40ca539-9881-4654-dc4e-6175ca82eee5"
      },
      "source": [
        "model = keras.Sequential([\r\n",
        "                          Conv2D(32,(3,3),padding='same',activation='relu', input_shape=(28,28,1)),\r\n",
        "                          MaxPooling2D((2,2),strides=2),\r\n",
        "                          Conv2D(64,(3,3),padding='same',activation='relu'),\r\n",
        "                          Dropout(0.3),\r\n",
        "                          MaxPooling2D((2,2),strides=2),\r\n",
        "                          Flatten(),\r\n",
        "                          Dense(128, activation='relu'),\r\n",
        "                          Dropout(0.3),\r\n",
        "                          Dense(10, activation='softmax')\r\n",
        "])\r\n",
        "\r\n",
        "print(model.summary())"
      ],
      "execution_count": null,
      "outputs": [
        {
          "output_type": "stream",
          "text": [
            "Model: \"sequential\"\n",
            "_________________________________________________________________\n",
            "Layer (type)                 Output Shape              Param #   \n",
            "=================================================================\n",
            "conv2d (Conv2D)              (None, 28, 28, 32)        320       \n",
            "_________________________________________________________________\n",
            "max_pooling2d (MaxPooling2D) (None, 14, 14, 32)        0         \n",
            "_________________________________________________________________\n",
            "conv2d_1 (Conv2D)            (None, 14, 14, 64)        18496     \n",
            "_________________________________________________________________\n",
            "dropout (Dropout)            (None, 14, 14, 64)        0         \n",
            "_________________________________________________________________\n",
            "max_pooling2d_1 (MaxPooling2 (None, 7, 7, 64)          0         \n",
            "_________________________________________________________________\n",
            "flatten (Flatten)            (None, 3136)              0         \n",
            "_________________________________________________________________\n",
            "dense (Dense)                (None, 128)               401536    \n",
            "_________________________________________________________________\n",
            "dropout_1 (Dropout)          (None, 128)               0         \n",
            "_________________________________________________________________\n",
            "dense_1 (Dense)              (None, 10)                1290      \n",
            "=================================================================\n",
            "Total params: 421,642\n",
            "Trainable params: 421,642\n",
            "Non-trainable params: 0\n",
            "_________________________________________________________________\n",
            "None\n"
          ],
          "name": "stdout"
        }
      ]
    },
    {
      "cell_type": "code",
      "metadata": {
        "id": "XSI68iL3TQrO"
      },
      "source": [
        "model.compile( optimizer= \"adam\", \r\n",
        "              loss=\"categorical_crossentropy\",\r\n",
        "              metrics=['accuracy']\r\n",
        ")"
      ],
      "execution_count": null,
      "outputs": []
    },
    {
      "cell_type": "code",
      "metadata": {
        "colab": {
          "base_uri": "https://localhost:8080/",
          "height": 945
        },
        "id": "Rd0Cqr_tTS3_",
        "outputId": "2e8f5f2d-58d6-43c5-94a2-9c98907fbeb7"
      },
      "source": [
        "log=model.fit(x_train,y_train_c, batch_size=32, epochs=20, validation_split=0.2)\r\n",
        "plt.plot(log.history['loss'])\r\n",
        "plt.plot(log.history['val_loss'])\r\n",
        "plt.show()"
      ],
      "execution_count": null,
      "outputs": [
        {
          "output_type": "stream",
          "text": [
            "Epoch 1/20\n",
            "1500/1500 [==============================] - 38s 3ms/step - loss: 0.3872 - accuracy: 0.8734 - val_loss: 0.0586 - val_accuracy: 0.9830\n",
            "Epoch 2/20\n",
            "1500/1500 [==============================] - 5s 3ms/step - loss: 0.0705 - accuracy: 0.9789 - val_loss: 0.0480 - val_accuracy: 0.9858\n",
            "Epoch 3/20\n",
            "1500/1500 [==============================] - 5s 3ms/step - loss: 0.0506 - accuracy: 0.9845 - val_loss: 0.0366 - val_accuracy: 0.9887\n",
            "Epoch 4/20\n",
            "1500/1500 [==============================] - 5s 3ms/step - loss: 0.0404 - accuracy: 0.9877 - val_loss: 0.0350 - val_accuracy: 0.9898\n",
            "Epoch 5/20\n",
            "1500/1500 [==============================] - 5s 3ms/step - loss: 0.0312 - accuracy: 0.9902 - val_loss: 0.0377 - val_accuracy: 0.9892\n",
            "Epoch 6/20\n",
            "1500/1500 [==============================] - 5s 3ms/step - loss: 0.0292 - accuracy: 0.9904 - val_loss: 0.0326 - val_accuracy: 0.9905\n",
            "Epoch 7/20\n",
            "1500/1500 [==============================] - 5s 3ms/step - loss: 0.0243 - accuracy: 0.9914 - val_loss: 0.0321 - val_accuracy: 0.9904\n",
            "Epoch 8/20\n",
            "1500/1500 [==============================] - 5s 3ms/step - loss: 0.0220 - accuracy: 0.9926 - val_loss: 0.0407 - val_accuracy: 0.9883\n",
            "Epoch 9/20\n",
            "1500/1500 [==============================] - 5s 3ms/step - loss: 0.0179 - accuracy: 0.9939 - val_loss: 0.0293 - val_accuracy: 0.9916\n",
            "Epoch 10/20\n",
            "1500/1500 [==============================] - 5s 3ms/step - loss: 0.0172 - accuracy: 0.9936 - val_loss: 0.0335 - val_accuracy: 0.9916\n",
            "Epoch 11/20\n",
            "1500/1500 [==============================] - 5s 3ms/step - loss: 0.0177 - accuracy: 0.9940 - val_loss: 0.0324 - val_accuracy: 0.9920\n",
            "Epoch 12/20\n",
            "1500/1500 [==============================] - 5s 3ms/step - loss: 0.0181 - accuracy: 0.9942 - val_loss: 0.0405 - val_accuracy: 0.9898\n",
            "Epoch 13/20\n",
            "1500/1500 [==============================] - 5s 3ms/step - loss: 0.0154 - accuracy: 0.9950 - val_loss: 0.0346 - val_accuracy: 0.9918\n",
            "Epoch 14/20\n",
            "1500/1500 [==============================] - 5s 3ms/step - loss: 0.0138 - accuracy: 0.9955 - val_loss: 0.0293 - val_accuracy: 0.9929\n",
            "Epoch 15/20\n",
            "1500/1500 [==============================] - 5s 3ms/step - loss: 0.0131 - accuracy: 0.9959 - val_loss: 0.0310 - val_accuracy: 0.9920\n",
            "Epoch 16/20\n",
            "1500/1500 [==============================] - 5s 3ms/step - loss: 0.0115 - accuracy: 0.9959 - val_loss: 0.0400 - val_accuracy: 0.9909\n",
            "Epoch 17/20\n",
            "1500/1500 [==============================] - 5s 3ms/step - loss: 0.0112 - accuracy: 0.9962 - val_loss: 0.0390 - val_accuracy: 0.9923\n",
            "Epoch 18/20\n",
            "1500/1500 [==============================] - 5s 3ms/step - loss: 0.0119 - accuracy: 0.9956 - val_loss: 0.0412 - val_accuracy: 0.9922\n",
            "Epoch 19/20\n",
            "1500/1500 [==============================] - 5s 3ms/step - loss: 0.0105 - accuracy: 0.9965 - val_loss: 0.0436 - val_accuracy: 0.9915\n",
            "Epoch 20/20\n",
            "1500/1500 [==============================] - 5s 3ms/step - loss: 0.0125 - accuracy: 0.9954 - val_loss: 0.0390 - val_accuracy: 0.9920\n"
          ],
          "name": "stdout"
        },
        {
          "output_type": "display_data",
          "data": {
            "image/png": "[encoded data removed]",
            "text/plain": [
              "<Figure size 432x288 with 1 Axes>"
            ]
          },
          "metadata": {
            "tags": [],
            "needs_background": "light"
          }
        }
      ]
    },
    {
      "cell_type": "code",
      "metadata": {
        "colab": {
          "base_uri": "https://localhost:8080/"
        },
        "id": "uFmZgffUVl5A",
        "outputId": "d574a9c3-989b-4610-c8a4-440ccdfa0cff"
      },
      "source": [
        "model.evaluate(x_test, y_test_c)"
      ],
      "execution_count": null,
      "outputs": [
        {
          "output_type": "stream",
          "text": [
            "313/313 [==============================] - 1s 3ms/step - loss: 0.0262 - accuracy: 0.9930\n"
          ],
          "name": "stdout"
        },
        {
          "output_type": "execute_result",
          "data": {
            "text/plain": [
              "[0.026247506961226463, 0.9929999709129333]"
            ]
          },
          "metadata": {
            "tags": []
          },
          "execution_count": 5
        }
      ]
    },
    {
      "cell_type": "code",
      "metadata": {
        "id": "h5Vf1R6KKi-s",
        "colab": {
          "base_uri": "https://localhost:8080/",
          "height": 129
        },
        "outputId": "67b0035e-279b-41c2-9437-d28af3e13743"
      },
      "source": [
        "get push"
      ],
      "execution_count": null,
      "outputs": [
        {
          "output_type": "error",
          "ename": "SyntaxError",
          "evalue": "ignored",
          "traceback": [
            "\u001b[0;36m  File \u001b[0;32m\"<ipython-input-6-fde66fcdfba0>\"\u001b[0;36m, line \u001b[0;32m1\u001b[0m\n\u001b[0;31m    get push\u001b[0m\n\u001b[0m           ^\u001b[0m\n\u001b[0;31mSyntaxError\u001b[0m\u001b[0;31m:\u001b[0m invalid syntax\n"
          ]
        }
      ]
    }
  ]
}